{
 "cells": [
  {
   "cell_type": "markdown",
   "id": "98adf210",
   "metadata": {},
   "source": [
    "# 1 Vectors and Data Frames "
   ]
  },
  {
   "cell_type": "code",
   "execution_count": null,
   "id": "aaab3491",
   "metadata": {},
   "outputs": [],
   "source": [
    "scottish.lakes <- read.csv('lakes.csv')\n",
    "#keep metric columns, rename headings for easy referencing\n",
    "scottish.lakes <- scottish.lakes[c(1,2,4,6,8,10)]\n",
    "colnames(scottish.lakes) <- c(\"Loch\",\"Volume\",\"Area\",\"Length\",\"MaxDepth\",\"MeanDepth\")\n",
    "\n",
    "scottish.lakes"
   ]
  },
  {
   "cell_type": "code",
   "execution_count": null,
   "id": "aa05bdc5",
   "metadata": {},
   "outputs": [],
   "source": [
    "# 1 max volume and area\n",
    "Vol <- scottish.lakes$Volume\n",
    "\n",
    "maxVol <- max(Vol)\n",
    "indexMaxVol <- which.max(Vol)\n",
    "lakeMaxVol <- scottish.lakes[indexMaxVol,1]\n",
    "\n",
    "minVol <- min(Vol)\n",
    "indexMinVol <- which.min(Vol)\n",
    "lakeMinVol <- scottish.lakes[indexMinVol,1]\n",
    "\n",
    "Are <- scottish.lakes$Area\n",
    "\n",
    "maxArea <- max(Are)\n",
    "indexMaxArea <- which.max(Are)\n",
    "lakeMaxArea <- scottish.lakes[indexMaxArea,1]\n",
    "\n",
    "minArea <- min(Are)\n",
    "indexMinArea <- which.min(Are)\n",
    "lakeMinArea <- scottish.lakes[indexMinArea,1]\n",
    "\n",
    "message(paste(\"The lake with the maximum volume is\", lakeMaxVol,\":\",maxVol,\"km^3\"))\n",
    "\n",
    "message(paste(\"The lake with the minimum volume is\", lakeMinVol,\":\",minVol,\"km^3\"))\n",
    "\n",
    "message(paste(\"The lake with the maximum area is\", lakeMaxArea,\":\",maxArea,\"km^2\"))\n",
    "\n",
    "message(paste(\"The lake with the minimum area is\", lakeMinArea,\":\",minArea,\"km^2\"))\n",
    "\n"
   ]
  },
  {
   "cell_type": "code",
   "execution_count": null,
   "id": "a68a710c",
   "metadata": {},
   "outputs": [],
   "source": [
    "# 2 order entries for lake area\n",
    "lakesArea <- scottish.lakes[order(scottish.lakes$Area, decreasing = TRUE),]\n",
    "print(lakesArea)\n",
    "\n",
    "cat(\"The largest area lake is\",lakesArea[1,1],\":\",lakesArea[1,3],\"km^2\")\n",
    "cat(\"The second largest area lake is\",lakesArea[2,1],\":\",lakesArea[2,3],\"km^2\")"
   ]
  },
  {
   "cell_type": "code",
   "execution_count": null,
   "id": "bc9f7b42",
   "metadata": {},
   "outputs": [],
   "source": [
    "# 3 area of scotland covered by water\n",
    "lakeArea <- sum(scottish.lakes$Area)\n",
    "\n",
    "cat(\"The area covered by lakes is:\",lakeArea)"
   ]
  },
  {
   "cell_type": "markdown",
   "id": "6b8b9797",
   "metadata": {},
   "source": [
    "# 2 Crude Oil Production"
   ]
  },
  {
   "cell_type": "code",
   "execution_count": null,
   "id": "57605f3a",
   "metadata": {},
   "outputs": [],
   "source": [
    "# Ex2 Cruid Oil Production\n",
    "\n",
    "#1\n",
    "oilp <- read.csv(\"crude-oil-prices.csv\")\n",
    "#take two relivant columbs\n",
    "oilp <- oilp[,c(3,4)]\n",
    "colnames(oilp) <- c(\"year\",\"oilPrice\")\n",
    "\n",
    "#2\n",
    "Year <- oilp$year\n",
    "Oil_Price <- oilp$oilPrice\n",
    "\n",
    "plot(Year,Oil_Price, type = 'l', xlab = \"Year\", ylab = \"Oil Price, US $ / barrel\")\n",
    "\n",
    "#3\n",
    "maxRow <- oilp[which.max(Oil_Price),]\n",
    "maxP <- maxRow[,2]\n",
    "maxPyear <- maxRow[,1]\n",
    "\n",
    "cat(\"The highest price recored is,\",maxP,\"US dollers per barrel. In year,\",maxPyear,\".\")\n",
    "\n",
    "#4\n",
    "derivative <- function(data){\n",
    "    der <- vector()\n",
    "    for (i in 0:length(data)){\n",
    "        der[i] <- data[i+1] - data[i]\n",
    "    }\n",
    "    return(der)\n",
    "}\n",
    "plot(Year, derivative(Oil_Price),type = 'l',xlab = \"Year\",ylab = \"Oil Price Gradient\")"
   ]
  },
  {
   "cell_type": "markdown",
   "id": "59af4794",
   "metadata": {},
   "source": [
    "# 3 World Coal Production"
   ]
  },
  {
   "cell_type": "code",
   "execution_count": null,
   "id": "ed4d80ab",
   "metadata": {},
   "outputs": [],
   "source": [
    "install.packages('tibble')\n",
    "library('tibble')\n",
    "\n",
    "coal <- as_tibble(read.csv(\"coal-production.csv\"))\n",
    "colnames(coal) <- c('country', 'code','year','TWh_coal')"
   ]
  },
  {
   "cell_type": "code",
   "execution_count": null,
   "id": "3d6faf83",
   "metadata": {},
   "outputs": [],
   "source": [
    "cat('The number of countries available is:', length(unique(coal$country)))"
   ]
  },
  {
   "cell_type": "code",
   "execution_count": null,
   "id": "0b8b0cb9",
   "metadata": {},
   "outputs": [],
   "source": [
    "#2 producing the barplot for of times countries are entered\n",
    "countries <- unique(coal$country)\n",
    "entries <- vector()\n",
    "for (i in 1:length(countries)){\n",
    "    mask <- coal$country == countries[i]\n",
    "    #print(countries[i])\n",
    "    #print(length(countries[mask]))\n",
    "    entries[i] <- length(countries[mask])\n",
    "}\n",
    "barplot(entries)\n",
    "\n"
   ]
  },
  {
   "cell_type": "code",
   "execution_count": null,
   "id": "be0f2477",
   "metadata": {},
   "outputs": [],
   "source": [
    "#3 top 5 coal producting countries after 1970\n",
    "\n",
    "yearMask <- coal$year >= 1970\n",
    "coalAfter <- coal[yearMask,]\n",
    "production <- vector()\n",
    "for (i in 1:length(countries)){    \n",
    "    countryMask <- coalAfter$country == countries[i]\n",
    "    production[i] <- sum(coalAfter[countryMask,]$TWh_coal)\n",
    "}\n",
    "aggregate(df_tib$\"Coal production (TWh)\",list(df_tib$Entity), sum)\n",
    "#country production after 1970, CPA\n",
    "CPA <- data.frame(countries,production)\n",
    "\n",
    "ordered <- CPA[order(CPA$production),]\n",
    "cat('The top five entities for coal production are:')\n",
    "topfive <- tail(ordered, 5)\n",
    "topfive\n",
    "\n"
   ]
  },
  {
   "cell_type": "code",
   "execution_count": null,
   "id": "1dc546b5",
   "metadata": {},
   "outputs": [],
   "source": [
    "#4 for the 5 top Countries, create a plot of production as a function of time\n",
    "for (i in 1:5){\n",
    "    currentCountry <- topfive['countries'][i,]\n",
    "    countryMask <- coalAfter$country == currentCountry\n",
    "    countrydf <- coalAfter[countryMask,]\n",
    "    plot(countrydf$year,countrydf$TWh_coal,main = currentCountry,xlab = 'year', ylab = 'Coal Production TWh')\n",
    "}\n",
    "\n",
    "#5 cumulative sum of the world coal procuction\n",
    "countryMask <- coalAfter$country == 'World'\n",
    "countrydf <- coalAfter[countryMask,]\n",
    "plot(countrydf$year,cumsum(countrydf$TWh_coal),main = 'Cumulative World Coal Production',xlab = 'year', ylab = 'Coal Production TWh')\n"
   ]
  },
  {
   "cell_type": "markdown",
   "id": "46bec504",
   "metadata": {},
   "source": [
    "# 4 Vaccination Data"
   ]
  },
  {
   "cell_type": "code",
   "execution_count": null,
   "id": "e8ae1435",
   "metadata": {},
   "outputs": [],
   "source": [
    "install.packages('dplyr')\n",
    "library('dplyr')"
   ]
  },
  {
   "cell_type": "code",
   "execution_count": null,
   "id": "0b4d9bf3",
   "metadata": {
    "scrolled": true
   },
   "outputs": [],
   "source": [
    "vacc <- read.csv('vaccinations-by-manufacturer.csv')\n",
    "print(vacc)\n",
    "italy <- filter(vacc,location == 'Italy')\n",
    "vacc[location == 'Unites States',]"
   ]
  },
  {
   "cell_type": "code",
   "execution_count": null,
   "id": "199d63ea",
   "metadata": {},
   "outputs": [],
   "source": [
    "#2 \n",
    "vaccine <- unique(italy$vaccine)\n",
    "\n",
    "for (vac in vaccine){\n",
    "    maskVac <- italy$vaccine == vac\n",
    "    italyVac <- italy[maskVac,]\n",
    "    startDate <- italyVac$date[1]\n",
    "    plot(1:length(italyVac$date), cumsum(as.numeric(italyVac$total_vaccinations)), xlab = c('Time in Days since ', startDate,'.')\n",
    "         ,ylab = 'Total Number of Vaccines Given', main = vac)    \n",
    "}\n",
    "\n"
   ]
  },
  {
   "cell_type": "code",
   "execution_count": null,
   "id": "815fc614",
   "metadata": {},
   "outputs": [],
   "source": [
    "dates <- unique(italy$date)\n",
    "vacPerDay <- vector()\n",
    "for (i in 1:length(dates)){\n",
    "    dateMask <- italy$date == dates[i]\n",
    "    italyDat <- italy[dateMask,]\n",
    "    vacPerDay[i] <- sum(italyDat$total_vaccinations) \n",
    "}\n",
    "\n",
    "plot(1:length(dates),vacPerDay, main = 'Vacciations per day in Italy', xlab = c('Days Since ',dates[1])\n",
    "    ,ylab = 'Number of Vaccinations in Each Day')\n",
    "\n",
    "cat(\"I think for some intermittant days there is a manufacturer missing from the data. This causes the sudden drops.\")"
   ]
  },
  {
   "cell_type": "markdown",
   "id": "2bf4a88c",
   "metadata": {},
   "source": [
    "## Same for Germany"
   ]
  },
  {
   "cell_type": "code",
   "execution_count": null,
   "id": "a64129cf",
   "metadata": {},
   "outputs": [],
   "source": [
    "germany <- filter(vacc,location == 'Germany')\n",
    "head(germany)\n",
    "\n",
    "vaccine <- unique(germany$vaccine)\n",
    "\n",
    "for (vac in vaccine){\n",
    "    maskVac <- germany$vaccine == vac\n",
    "    germanyVac <- germany[maskVac,]\n",
    "    startDate <- germanyVac$date[1]\n",
    "    plot(1:length(germanyVac$date), cumsum(as.numeric(germanyVac$total_vaccinations)), xlab = c('Time in Days since ', startDate,'.')\n",
    "         ,ylab = 'Total Number of Vaccines Given', main = vac)    \n",
    "}\n",
    "\n",
    "\n",
    "dates <- unique(germany$date)\n",
    "vacPerDay <- vector()\n",
    "for (i in 1:length(dates)){\n",
    "    dateMask <- germany$date == dates[i]\n",
    "    germanyDat <- germany[dateMask,]\n",
    "    vacPerDay[i] <- sum(germanyDat$total_vaccinations) \n",
    "}\n",
    "\n",
    "plot(1:length(dates),vacPerDay, main = 'Vacciations per day in Germany', xlab = c('Days Since ',dates[1])\n",
    "    ,ylab = 'Number of Vaccinations in Each Day')"
   ]
  },
  {
   "cell_type": "markdown",
   "id": "6185ba26",
   "metadata": {},
   "source": [
    "## Same for USA"
   ]
  },
  {
   "cell_type": "code",
   "execution_count": null,
   "id": "0081cb0d",
   "metadata": {},
   "outputs": [],
   "source": [
    "usa <- filter(vacc,location == 'United States')\n",
    "head(usa)\n",
    "\n",
    "vaccine <- unique(usa$vaccine)\n",
    "\n",
    "for (vac in vaccine){\n",
    "    maskVac <- usa$vaccine == vac\n",
    "    usaVac <- usa[maskVac,]\n",
    "    startDate <- usaVac$date[1]\n",
    "    plot(1:length(usaVac$date), cumsum(as.numeric(usaVac$total_vaccinations)), xlab = c('Time in Days since ', startDate,'.')\n",
    "         ,ylab = 'Total Number of Vaccines Given', main = vac)    \n",
    "}\n",
    "\n",
    "\n",
    "dates <- unique(usa$date)\n",
    "vacPerDay <- vector()\n",
    "for (i in 1:length(dates)){\n",
    "    dateMask <- usa$date == dates[i]\n",
    "    usaDat <- usa[dateMask,]\n",
    "    vacPerDay[i] <- sum(usaDat$total_vaccinations) \n",
    "}\n",
    "\n",
    "plot(1:length(dates),vacPerDay, main = 'Vacciations per day in usa', xlab = c('Days Since ',dates[1])\n",
    "    ,ylab = 'Number of Vaccinations in Each Day')"
   ]
  },
  {
   "cell_type": "code",
   "execution_count": null,
   "id": "9f886620",
   "metadata": {},
   "outputs": [],
   "source": [
    "vacc[location = '']"
   ]
  },
  {
   "cell_type": "code",
   "execution_count": null,
   "id": "4e530a36",
   "metadata": {},
   "outputs": [],
   "source": [
    "#daily vaccinations per million in europ \n",
    "vaccin <- read.csv('vaccinations.csv')\n",
    "\n",
    "isoMask <- \"OWID_EUR\" == vaccin$iso_code\n",
    "\n",
    "europe <- vaccin[isoMask,]\n",
    "\n",
    "date <- vaccin$date \n",
    "vacpermil <- vaccin$daily_vaccinations_per_million\n",
    "\n",
    "#dev.new(width=5, height=4, unit=\"in\")\n",
    "plot(1:length(vacpermil),vacpermil,xlab = c(\"Days Since \",date[1]),ylab = \"Daily Vaccinations per Million\", main = \"Europe, Covid Statistics\")"
   ]
  },
  {
   "cell_type": "code",
   "execution_count": null,
   "id": "8a92db85",
   "metadata": {},
   "outputs": [],
   "source": [
    "# Percentage of people vaccinated\n",
    "NI <- vaccin[grepl('Northern Ireland',vaccin$location),]\n",
    "population <- 1.9e+6 #approximatly\n",
    "\n",
    "pplfv <- NI$people_fully_vaccinated\n",
    "vacPerc <- (pplfv/population)*100\n",
    "\n",
    "\n",
    "plot(vacPerc, xlab = c(\"Days Since \",NI$date[1]),ylab = \"Percentage of People Vaccinated\", main = \"Northern Ireland, COVID-19\")\n",
    "\n",
    "cat(\"Perhaps 30% of the population don't want to be vaccinated\")"
   ]
  },
  {
   "cell_type": "code",
   "execution_count": null,
   "id": "3e438957",
   "metadata": {},
   "outputs": [],
   "source": [
    "# Percentage of people vaccinated\n",
    "lux <- vaccin[grepl('Luxembourg',vaccin$location),]\n",
    "population <- 630000 #approximatly\n",
    "\n",
    "pplfv <- lux$people_fully_vaccinated\n",
    "vacPerc <- (pplfv/population)*100\n",
    "\n",
    "\n",
    "plot(vacPerc, xlab = c(\"Days Since \",lux$date[1]),ylab = \"Percentage of People Vaccinated\", main = \"Luxembourg, COVID-19\")\n",
    "\n",
    "cat(\"Perhaps 25% of the population don't want to be vaccinated\")"
   ]
  },
  {
   "cell_type": "code",
   "execution_count": null,
   "id": "6889596a",
   "metadata": {},
   "outputs": [],
   "source": [
    "# Percentage of people vaccinated\n",
    "it <- vaccin[grepl('Italy',vaccin$location),]\n",
    "population <- 59.55e+6 #approximatly\n",
    "\n",
    "pplfv <- it$people_fully_vaccinated\n",
    "vacPerc <- (pplfv/population)*100\n",
    "\n",
    "\n",
    "plot(vacPerc, xlab = c(\"Days Since \",it$date[1]),ylab = \"Percentage of People Vaccinated\", main = \"Italy, COVID-19\")\n",
    "\n",
    "cat(\"Perhaps 20% of the population don't want to be vaccinated\")"
   ]
  },
  {
   "cell_type": "code",
   "execution_count": null,
   "id": "01b17220",
   "metadata": {},
   "outputs": [],
   "source": [
    "# Percentage of people vaccinated\n",
    "swe <- vaccin[grepl('Sweden',vaccin$location),]\n",
    "population <- 10.353e+6 #approximatly\n",
    "\n",
    "pplfv <- swe$people_fully_vaccinated\n",
    "vacPerc <- (pplfv/population)*100\n",
    "\n",
    "\n",
    "plot(vacPerc, xlab = c(\"Days Since \",swe$date[1]),ylab = \"Percentage of People Vaccinated\", main = \"Sweden, COVID-19\")\n",
    "\n",
    "cat(\"Perhaps 25% of the population don't want to be vaccinated\")"
   ]
  },
  {
   "cell_type": "code",
   "execution_count": null,
   "id": "a6205662",
   "metadata": {},
   "outputs": [],
   "source": [
    "# Percentage of people vaccinated\n",
    "wor <- vaccin[grepl('World',vaccin$location),]\n",
    "population <- 7.9e+9 #approximatly\n",
    "\n",
    "pplfv <- wor$people_fully_vaccinated\n",
    "vacPerc <- (pplfv/population)*100\n",
    "\n",
    "\n",
    "plot(vacPerc, xlab = c(\"Days Since \",wor$date[1]),ylab = \"Percentage of People Vaccinated\", main = \"World, COVID-19\")\n"
   ]
  }
 ],
 "metadata": {
  "kernelspec": {
   "display_name": "R",
   "language": "R",
   "name": "ir"
  },
  "language_info": {
   "codemirror_mode": "r",
   "file_extension": ".r",
   "mimetype": "text/x-r-source",
   "name": "R",
   "pygments_lexer": "r",
   "version": "4.1.2"
  }
 },
 "nbformat": 4,
 "nbformat_minor": 5
}
