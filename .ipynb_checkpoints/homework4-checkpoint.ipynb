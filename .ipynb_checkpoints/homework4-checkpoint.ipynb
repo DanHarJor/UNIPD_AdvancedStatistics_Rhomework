{
 "cells": [
  {
   "cell_type": "code",
   "execution_count": 1,
   "id": "b3cedd67",
   "metadata": {},
   "outputs": [],
   "source": [
    "global <- read.csv('Global_Mobility_Report.csv')"
   ]
  },
  {
   "cell_type": "code",
   "execution_count": 2,
   "id": "91486b1d",
   "metadata": {},
   "outputs": [
    {
     "data": {
      "text/html": [
       "<style>\n",
       ".list-inline {list-style: none; margin:0; padding: 0}\n",
       ".list-inline>li {display: inline-block}\n",
       ".list-inline>li:not(:last-child)::after {content: \"\\00b7\"; padding: 0 .5ex}\n",
       "</style>\n",
       "<ol class=list-inline><li>'retail_and_recreation_percent_change_from_baseline'</li><li>'grocery_and_pharmacy_percent_change_from_baseline'</li><li>'parks_percent_change_from_baseline'</li><li>'transit_stations_percent_change_from_baseline'</li><li>'workplaces_percent_change_from_baseline'</li><li>'residential_percent_change_from_baseline'</li></ol>\n"
      ],
      "text/latex": [
       "\\begin{enumerate*}\n",
       "\\item 'retail\\_and\\_recreation\\_percent\\_change\\_from\\_baseline'\n",
       "\\item 'grocery\\_and\\_pharmacy\\_percent\\_change\\_from\\_baseline'\n",
       "\\item 'parks\\_percent\\_change\\_from\\_baseline'\n",
       "\\item 'transit\\_stations\\_percent\\_change\\_from\\_baseline'\n",
       "\\item 'workplaces\\_percent\\_change\\_from\\_baseline'\n",
       "\\item 'residential\\_percent\\_change\\_from\\_baseline'\n",
       "\\end{enumerate*}\n"
      ],
      "text/markdown": [
       "1. 'retail_and_recreation_percent_change_from_baseline'\n",
       "2. 'grocery_and_pharmacy_percent_change_from_baseline'\n",
       "3. 'parks_percent_change_from_baseline'\n",
       "4. 'transit_stations_percent_change_from_baseline'\n",
       "5. 'workplaces_percent_change_from_baseline'\n",
       "6. 'residential_percent_change_from_baseline'\n",
       "\n",
       "\n"
      ],
      "text/plain": [
       "[1] \"retail_and_recreation_percent_change_from_baseline\"\n",
       "[2] \"grocery_and_pharmacy_percent_change_from_baseline\" \n",
       "[3] \"parks_percent_change_from_baseline\"                \n",
       "[4] \"transit_stations_percent_change_from_baseline\"     \n",
       "[5] \"workplaces_percent_change_from_baseline\"           \n",
       "[6] \"residential_percent_change_from_baseline\"          "
      ]
     },
     "metadata": {},
     "output_type": "display_data"
    },
    {
     "name": "stdout",
     "output_type": "stream",
     "text": [
      "[1] \"2020-02-15\"\n"
     ]
    }
   ],
   "source": [
    "variables <- colnames(global)[10:15]\n",
    "variables\n",
    "print(global$date[1])\n",
    "#unique(global['country_region'])"
   ]
  },
  {
   "cell_type": "code",
   "execution_count": 5,
   "id": "4a8dc6b6",
   "metadata": {},
   "outputs": [],
   "source": [
    "weeklychange <- function(variable,countryS){\n",
    "    country <- global[global$country_region == countryS,]\n",
    "    var <- country[c('date',variable)]\n",
    "    weeks <- vector()\n",
    "    week <- 1\n",
    "    day <- 1\n",
    "    for(i in seq(1:nrow(var))){\n",
    "        weeks <- c(weeks,week)\n",
    "        if(day == 7){day <- 0; week = week + 1}\n",
    "        day <- day + 1\n",
    "    }\n",
    "    \n",
    "    var['weeks']<-weeks\n",
    "    weekly <- aggregate(var[variable],list(var$weeks),FUN = mean)\n",
    "    colnames(weekly) <- c(\"week\",\"var\")\n",
    "    plot(weekly$var, type = 'l',\n",
    "    xlab = paste('Weeks from',var$date[1]), ylab = 'Percent Change From Baseline',\n",
    "    main = variable)\n",
    "}\n",
    "\n",
    "monthlychange <- function(variable,countryS){\n",
    "    country <- global[global$country_region == countryS,]\n",
    "    var <- country[c('date',variable)]\n",
    "    day1 <- var[1,1]\n",
    "    months <- vector()\n",
    "    month <- 1\n",
    "    print(var[1,])\n",
    "#     for (day in var){\n",
    "#         print(day)\n",
    "#     }\n",
    "    for(i in seq(1:nrow(var))){\n",
    "        var[i,]\n",
    "    }\n",
    "#     for(i in seq(1:nrow(var))){\n",
    "#         weeks <- c(weeks,week)\n",
    "#         if(day == 7){day <- 0; week = week + 1}\n",
    "#         day <- day + 1\n",
    "#     }\n",
    "    \n",
    "#     var['weeks']<-weeks\n",
    "#     weekly <- aggregate(var[variable],list(var$weeks),FUN = mean)\n",
    "#     colnames(weekly) <- c(\"week\",\"var\")\n",
    "#     plot(weekly$var, type = 'l',\n",
    "#     xlab = paste('Weeks from',var$date[1]), ylab = 'Percent Change From Baseline',\n",
    "#     main = variable)\n",
    "}"
   ]
  },
  {
   "cell_type": "code",
   "execution_count": 6,
   "id": "f21bbb16",
   "metadata": {},
   "outputs": [
    {
     "name": "stdout",
     "output_type": "stream",
     "text": [
      "              date retail_and_recreation_percent_change_from_baseline\n",
      "3489757 2020-02-15                                                 -2\n"
     ]
    }
   ],
   "source": [
    "monthlychange('retail_and_recreation_percent_change_from_baseline','France')"
   ]
  },
  {
   "cell_type": "code",
   "execution_count": null,
   "id": "cf1e094b",
   "metadata": {},
   "outputs": [],
   "source": [
    "print('Belgium - weekly changes in visitor Levels')\n",
    "for(vari in variables){\n",
    "    weeklychange(vari,'Belgium')\n",
    "}\n",
    "#weeklychange('grocery_and_pharmacy_percent_change_from_baseline','Belgium')"
   ]
  },
  {
   "cell_type": "code",
   "execution_count": null,
   "id": "4a78546e",
   "metadata": {},
   "outputs": [],
   "source": [
    "print('France - weekly changes in visitor levels')\n",
    "for(vari in variables){\n",
    "    weeklychange(vari,'France')\n",
    "}\n"
   ]
  },
  {
   "cell_type": "code",
   "execution_count": null,
   "id": "9a3a81ef",
   "metadata": {},
   "outputs": [],
   "source": [
    "print('Ireland - weekly changes in visitor levels')\n",
    "for(vari in variables){\n",
    "    weeklychange(vari,'Ireland')\n",
    "}"
   ]
  },
  {
   "cell_type": "code",
   "execution_count": null,
   "id": "145e3cf7",
   "metadata": {},
   "outputs": [],
   "source": [
    "retrec <- 'retail_and_recreation_percent_change_from_baseline'\n",
    "belgium <- global[global$country_region == 'Belgium',]\n",
    "belretrec <- belgium[c('date',retrec)]\n",
    "weeks <- vector()\n",
    "week <- 1\n",
    "day <- 1\n",
    "for(i in seq(1:nrow(belretrec))){\n",
    "    weeks <- c(weeks,week)\n",
    "    if(day == 7){day <- 0; week = week + 1}\n",
    "    day <- day + 1\n",
    "}\n",
    "belretrec['weeks'] <- weeks\n",
    "weekly <- aggregate(belretrec[retrec],list(belretrec$weeks),FUN = mean)\n",
    "colnames(weekly) <- c(\"week\",\"retrec\")\n",
    "\n",
    "plot(weekly$retrec, type = 'l',\n",
    "    xlab = 'Weeks from 2020/02/15', ylab = 'Percent Change From Baseline',\n",
    "    main = 'Belgium, Retail and Recreation - visitor levels')"
   ]
  },
  {
   "cell_type": "code",
   "execution_count": null,
   "id": "03656b86",
   "metadata": {},
   "outputs": [],
   "source": []
  },
  {
   "cell_type": "code",
   "execution_count": null,
   "id": "0cf3a10d",
   "metadata": {},
   "outputs": [],
   "source": [
    "retrec <- global['retail_and_recreation_percent_change_from_baseline']\n",
    "retrec"
   ]
  },
  {
   "cell_type": "code",
   "execution_count": 10,
   "id": "ac612499",
   "metadata": {},
   "outputs": [
    {
     "name": "stdout",
     "output_type": "stream",
     "text": [
      "[1] \"2020-05-25\"\n",
      "Time difference of NA days\n"
     ]
    }
   ],
   "source": [
    "day1 <- as.Date('2020-05-25')\n",
    "day2 <- as.Date('2020-08-25')\n",
    "\n",
    "print(day1)\n",
    "print((day2-day1))\n"
   ]
  },
  {
   "cell_type": "code",
   "execution_count": null,
   "id": "77891844",
   "metadata": {},
   "outputs": [],
   "source": []
  }
 ],
 "metadata": {
  "kernelspec": {
   "display_name": "R",
   "language": "R",
   "name": "ir"
  },
  "language_info": {
   "codemirror_mode": "r",
   "file_extension": ".r",
   "mimetype": "text/x-r-source",
   "name": "R",
   "pygments_lexer": "r",
   "version": "4.1.2"
  }
 },
 "nbformat": 4,
 "nbformat_minor": 5
}
