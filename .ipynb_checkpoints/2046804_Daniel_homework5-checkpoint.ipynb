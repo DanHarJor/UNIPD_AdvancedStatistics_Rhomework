{
 "cells": [
  {
   "cell_type": "markdown",
   "id": "f2aeab5f",
   "metadata": {},
   "source": [
    "# Exercise 3\n",
    "\n",
    "given the Signal over Background example discussed last week, analyze and discuss the following\n",
    "cases:\n",
    "\n",
    "a) vary the sampling resolution of used to generate the data, keeping the same sampling range\n",
    "\n",
    "b) change the ratio A/B used to simulate the data (keeping both positive in accordance with the prior)"
   ]
  },
  {
   "cell_type": "code",
   "execution_count": null,
   "id": "e89e33c2",
   "metadata": {},
   "outputs": [],
   "source": [
    "### The code that generates the signal and calculates the posterior is taken from the lecture slides.\n",
    "### The variables are changed and the results are analysed"
   ]
  },
  {
   "cell_type": "code",
   "execution_count": null,
   "id": "555e293c",
   "metadata": {},
   "outputs": [],
   "source": [
    "# - Generative model\n",
    "signal <- function(x, a, b, x0, w, t) {\n",
    "t * (a*exp(-(x-x0)ˆ2/(2*wˆ2)) + b)\n",
    "}\n",
    "# Define model parameters\n",
    "x0 <- 0 # Signal peak\n",
    "w <-1 # Signal width\n",
    "A.true <- 2 # Signal amplitude\n",
    "B.true <- 1 # Background amplitude\n",
    "Delta.t <- 5 # Exposure time\n",
    "# - Generate the observed data\n",
    "set.seed(205)\n",
    "xdat <- seq(from=-7*w, to=7*w, by=0.5*w)\n",
    "s.true <- signal(xdat , A.true , B.true , x0, w, Delta.t)\n",
    "ddat <- rpois(length(s.true), s.true)\n",
    "xplot <- seq(from=min(xdat), to=max(xdat), by=0.05*w)\n",
    "splot <- signal(xplot , A.true , B.true , x0, w, Delta.t)\n",
    "plot(xplot , splot ,\n",
    "xlab=\"x\", ylab=\"Signal+Background counts\")\n",
    "par(new=TRUE)\n",
    "xdat.off <- xdat -0.25\n",
    "plot(xdat.off, ddat , type=’s’,col=’firebrick3’,\n",
    "lwd=2,xlim=range(xplot), ylim=range(c(splot , ddat )))"
   ]
  },
  {
   "cell_type": "code",
   "execution_count": null,
   "id": "4fee4d88",
   "metadata": {},
   "outputs": [],
   "source": [
    "alim <- c(0.0, 4.0)\n",
    "blim <- c(0.5, 1.5)\n",
    "Nsamp <- 100\n",
    "uniGrid <- seq(from=1/(2*Nsamp),\n",
    "to=1-1/(2*Nsamp), by=1/Nsamp)\n",
    "delta_a <- diff(alim )/ Nsamp\n",
    "delta_b <- diff(blim )/ Nsamp\n",
    "a <- alim[1] + diff(alim )* uniGrid\n",
    "b <- blim[1] + diff(blim )* uniGrid"
   ]
  }
 ],
 "metadata": {
  "kernelspec": {
   "display_name": "R [conda env:r-env]",
   "language": "R",
   "name": "conda-env-r-env-r"
  },
  "language_info": {
   "codemirror_mode": "r",
   "file_extension": ".r",
   "mimetype": "text/x-r-source",
   "name": "R",
   "pygments_lexer": "r",
   "version": "3.6.1"
  }
 },
 "nbformat": 4,
 "nbformat_minor": 5
}
